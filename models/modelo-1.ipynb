{
  "nbformat": 4,
  "nbformat_minor": 0,
  "metadata": {
    "colab": {
      "provenance": []
    },
    "kernelspec": {
      "name": "python3",
      "display_name": "Python 3"
    },
    "language_info": {
      "name": "python"
    }
  },
  "cells": [
    {
      "cell_type": "markdown",
      "source": [
        "# Modelo 1: Asimilación entre grados Celsius y Fahrenheit.\n",
        "\n",
        "Usamos capas densas, y un modelo secuencial. Finalmente graficamos las pérdidas (que deberán ser mínimas antes de las 50 o 100 épocas)."
      ],
      "metadata": {
        "id": "rvGqk7eQ3Q9A"
      }
    },
    {
      "cell_type": "code",
      "execution_count": null,
      "metadata": {
        "colab": {
          "base_uri": "https://localhost:8080/",
          "height": 501
        },
        "id": "0AtzqVpYs9W9",
        "outputId": "e13888f7-9082-4a03-ba5f-a4e16eb08da5"
      },
      "outputs": [
        {
          "output_type": "stream",
          "name": "stdout",
          "text": [
            "Entrenando...\n",
            "Entrenamiento completado! :)\n"
          ]
        },
        {
          "output_type": "execute_result",
          "data": {
            "text/plain": [
              "[<matplotlib.lines.Line2D at 0x7f59c0521270>]"
            ]
          },
          "metadata": {},
          "execution_count": 12
        },
        {
          "output_type": "display_data",
          "data": {
            "text/plain": [
              "<Figure size 640x480 with 1 Axes>"
            ],
            "image/png": "[encoded data removed]"
          },
          "metadata": {}
        }
      ],
      "source": [
        "import tensorflow as tf\n",
        "import numpy as np\n",
        "import matplotlib.pyplot as plt\n",
        "\n",
        "# preparamos los datos\n",
        "celsius = np.array([-40, 10, 0, 8, 15, 22, 38, 50, 35, 40, -50, 38], dtype=float)\n",
        "fahrenheit = np.array([-40, 14, 32, 46, 59, 72, 100, 122, 95, 104, -58, 100.4], dtype=float)\n",
        "\n",
        "# ponemos las capas (capas densas)\n",
        "capaEntrada = tf.keras.layers.Dense(units=3, input_shape=[1])\n",
        "capaOculta = tf.keras.layers.Dense(units=3)\n",
        "capaSalida = tf.keras.layers.Dense(units=1)\n",
        "\n",
        "# modelo (tipo secuencial)\n",
        "modelo = tf.keras.Sequential([capaEntrada, capaOculta, capaSalida])\n",
        "\n",
        "# optimizamos (minimamente para asegurar aprendizaje)\n",
        "modelo.compile(optimizer=tf.keras.optimizers.Adam(0.1), loss=\"mean_squared_error\")\n",
        "\n",
        "# entrenamos el modelo! :)\n",
        "print(\"Entrenando...\")\n",
        "historial = modelo.fit(celsius, fahrenheit, epochs=1000, verbose=False)\n",
        "print(\"Entrenamiento completado! :)\")\n",
        "\n",
        "# graficamos los resultados para medir aprendizaje\n",
        "plt.xlabel(\"Numero de epoca\")\n",
        "plt.ylabel(\"Magnitud de perdida\")\n",
        "plt.plot(historial.history[\"loss\"])"
      ]
    },
    {
      "cell_type": "markdown",
      "source": [
        "Una vez que el modelo ha sido entrenado, podemos verificar su comportamiento con una prueba de predicción.\n",
        "\n",
        "Si en cierto lugar estamos a 37° Celsius, estamos a 98° Fahrenheit aproximadamente. ¿Podrá nuestro modelo aproximarse a esta conversión?"
      ],
      "metadata": {
        "id": "mUGOiNg6APTz"
      }
    },
    {
      "cell_type": "code",
      "source": [
        "# Veamos si el modelo ha aprendido bien...\n",
        "# debe decir que 37 grados celsius son 96 fahrenheit...\n",
        "\n",
        "print(\"Vamos a revisar!\")\n",
        "grados = 37.0\n",
        "resultado = modelo.predict([grados])\n",
        "print(\"Si en celsius estamos a\", str(grados) + \"°...\")\n",
        "print(\"... en Fahrenheit estaremos a\", str(resultado) + \"°, o no?\")"
      ],
      "metadata": {
        "colab": {
          "base_uri": "https://localhost:8080/"
        },
        "id": "edXkzBaj4L3r",
        "outputId": "063494d7-960c-450b-ee65-4557ece8a1d0"
      },
      "execution_count": null,
      "outputs": [
        {
          "output_type": "stream",
          "name": "stdout",
          "text": [
            "Vamos a revisar!\n",
            "1/1 [==============================] - 0s 51ms/step\n",
            "Si en celsius estamos a 37.0°...\n",
            "... en Fahrenheit estaremos a [[95.85159]]°, o no?\n"
          ]
        }
      ]
    },
    {
      "cell_type": "markdown",
      "source": [
        "Con los datos actuales, la predicción es 95° Fahrenheit. El resultado se aleja un poco del dato correcto, pero es un progreso."
      ],
      "metadata": {
        "id": "w6_UP6PEBlNO"
      }
    }
  ]
}